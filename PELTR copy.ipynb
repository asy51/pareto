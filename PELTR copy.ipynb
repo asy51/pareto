{
 "cells": [
  {
   "cell_type": "code",
   "execution_count": 15,
   "metadata": {
    "ExecuteTime": {
     "end_time": "2022-03-22T16:57:07.223714Z",
     "start_time": "2022-03-22T16:57:04.058435Z"
    }
   },
   "outputs": [],
   "source": [
    "import pandas as pd\n",
    "import torch\n",
    "from torch import nn\n",
    "import numpy as np\n",
    "import os\n",
    "import matplotlib.pyplot as plt\n",
    "import sklearn\n",
    "from sklearn import *\n",
    "import scipy\n",
    "import time"
   ]
  },
  {
   "cell_type": "code",
   "execution_count": 16,
   "metadata": {},
   "outputs": [],
   "source": [
    "q = pd.read_csv('./data/diginetica/dataset-train-diginetica/train-queries.csv', sep=';', dtype={'searchstring.tokens': 'O'})\n",
    "# q['searchstring.tokens'] = q['searchstring.tokens'].astype('O')\n",
    "v = pd.read_csv('./data/diginetica/dataset-train-diginetica/train-item-views.csv', sep=';')\n",
    "c = pd.read_csv('./data/diginetica/dataset-train-diginetica/train-clicks.csv', sep=';')\n",
    "p = pd.read_csv('./data/diginetica/dataset-train-diginetica/train-purchases.csv', sep=';')\n",
    "products = pd.read_csv('./data/diginetica/dataset-train-diginetica/products.csv', sep=';')\n",
    "product_cat = pd.read_csv('./data/diginetica/dataset-train-diginetica/product-categories.csv', sep=';')"
   ]
  },
  {
   "cell_type": "code",
   "execution_count": 17,
   "metadata": {},
   "outputs": [
    {
     "name": "stdout",
     "output_type": "stream",
     "text": [
      "q:           ['queryId', 'sessionId', 'userId', 'timeframe', 'duration', 'eventdate', 'searchstring.tokens', 'categoryId', 'items', 'is.test']\n",
      "v:           ['sessionId', 'userId', 'itemId', 'timeframe', 'eventdate']\n",
      "c:           ['queryId', 'timeframe', 'itemId']\n",
      "p:           ['sessionId', 'userId', 'timeframe', 'eventdate', 'ordernumber', 'itemId']\n",
      "products:    ['itemId', 'pricelog2', 'product.name.tokens']\n",
      "product_cat: ['itemId', 'categoryId']\n"
     ]
    }
   ],
   "source": [
    "print(f'q:           {list(q.columns)}')\n",
    "print(f'v:           {list(v.columns)}')\n",
    "print(f'c:           {list(c.columns)}')\n",
    "print(f'p:           {list(p.columns)}')\n",
    "print(f'products:    {list(products.columns)}')\n",
    "print(f'product_cat: {list(product_cat.columns)}')\n"
   ]
  },
  {
   "cell_type": "code",
   "execution_count": 18,
   "metadata": {},
   "outputs": [],
   "source": [
    "qq = q.iloc[:].copy()"
   ]
  },
  {
   "cell_type": "code",
   "execution_count": 19,
   "metadata": {},
   "outputs": [],
   "source": [
    "qi = qq.copy()\n",
    "qi['items'] = qi['items'].str.split(',')\n",
    "qi = qi.explode('items')\n",
    "qi['pos'] = 1\n",
    "qi['pos'] = qi.groupby('queryId')['pos'].cumsum()\n",
    "qi = qi.rename(columns={'items': 'itemId'})\n",
    "qi['itemId'] = qi['itemId'].astype(int)\n",
    "qi = qi.rename(columns={'duration': 'duration_query', 'categoryId': 'categoryId_query'})\n",
    "# clicks\n",
    "qi = pd.merge(qi.rename(columns={'timeframe': 'timeframe_query', 'eventdate': 'eventdate_query'}), c.rename(columns={'timeframe': 'timeframe_click'}), how='left', on=['queryId', 'itemId'])\n",
    "qi['clicked'] = qi['timeframe_click'].notna()\n",
    "# views (doesn't merge well)\n",
    "# qi = pd.merge(qi, v.rename(columns={'timeframe': 'timeframe_view', 'eventdate': 'eventdate_view'}), how='left', on=['sessionId', 'userId', 'itemId'])\n",
    "# purchases\n",
    "qi = pd.merge(qi, p.rename(columns={'timeframe': 'timeframe_purchase', 'eventdate': 'eventdate_purchase'}), how='left', on=['userId', 'sessionId', 'itemId'])\n",
    "qi['purchased'] = qi['timeframe_purchase'].notna()\n",
    "# product prices\n",
    "qi = pd.merge(qi, products, how='left', on=['itemId'])\n",
    "# product cat\n",
    "qi = pd.merge(qi, product_cat.rename(columns={'categoryId': 'categoryId_product'}), how='left', on=['itemId'])\n",
    "# query totals\n",
    "totals = qi.groupby('queryId')[['clicked', 'purchased']].sum().reset_index().rename(columns={'clicked':'clicks_query', 'purchased':'purchases_query', })\n",
    "qi = pd.merge(qi, totals, on=['queryId'])\n",
    "qi.loc[qi['searchstring.tokens'].isna(), 'searchstring.tokens'] = ''\n",
    "qi['searchstring.tokens'] = qi['searchstring.tokens'].str.split(',')\n",
    "qi['product.name.tokens'] = qi['product.name.tokens'].str.split(',')\n",
    "qi = qi.drop(columns=['queryId', 'sessionId', 'userId', 'timeframe_query', 'timeframe_click', 'timeframe_purchase', 'eventdate_purchase', 'ordernumber', 'clicks_query', 'purchases_query', 'is.test', 'pos', 'purchased', 'eventdate_query'])\n",
    "qi = qi.drop(columns=['product.name.tokens', 'searchstring.tokens'])\n",
    "# qi = qi.drop(columns=['categoryId_query', 'categoryId_product'])"
   ]
  },
  {
   "cell_type": "code",
   "execution_count": 20,
   "metadata": {},
   "outputs": [],
   "source": [
    "pi = pd.DataFrame()\n",
    "pi['n'] = qi.groupby('itemId').size()\n",
    "pi['clicked'] = qi.groupby('itemId')['clicked'].sum()\n",
    "pi['price'] = qi.groupby('itemId')['pricelog2'].mean()\n",
    "pi['p_click'] = pi['clicked'] / pi['n']\n",
    "pi = pi.reset_index()\n",
    "# pi.loc[pi['clicked'] > 0, 'l_ctr'] = np.log(pi['clicked'] / pi['n'])\n",
    "# pi.loc[pi['clicked'] == 0, 'l_ctr'] = 0\n",
    "\n",
    "# pi.loc[pi['purchased'] > 0, 'l_gmv'] = pi['price'] * np.log(pi['purchased'] / pi['n'])\n",
    "# pi.loc[pi['purchased'] > 0, 'l_gmv'] = pi['price'] * np.log(pi['purchased'] / pi['n']) + np.log(pi['purchased'] / pi['clicked'])\n",
    "# pi.loc[pi['purchased'] == 0, 'l_gmv'] = 0\n",
    "qi = pd.merge(qi, pi[['itemId', 'p_click']], on=['itemId'], how='left')"
   ]
  },
  {
   "cell_type": "code",
   "execution_count": 21,
   "metadata": {},
   "outputs": [],
   "source": [
    "# one hot for single cats\n",
    "qi = qi.merge(pd.get_dummies(qi['itemId'], prefix='itemId'), left_index=True, right_index=True)\n",
    "qi = qi.merge(pd.get_dummies(qi['categoryId_query'], prefix='categoryId_query'), left_index=True, right_index=True)\n",
    "qi = qi.merge(pd.get_dummies(qi['categoryId_product'], prefix='categoryId_product'), left_index=True, right_index=True)\n",
    "qi = qi.drop(columns=['categoryId_query', 'categoryId_product', 'itemId'])\n",
    "# one hot for cat lists\n",
    "# pd.get_dummies(pd.DataFrame(qi['searchstring.tokens'].values.tolist()), prefix_sep='', prefix='')\n",
    "# pd.get_dummies(pd.DataFrame(qi['product.name.tokens'].values.tolist()), prefix_sep='', prefix='')\n",
    "top5itemId = qi.filter(like='itemId').sum().sort_values(ascending=False).iloc[:5].index.tolist()\n",
    "top5categoryId_query = qi.filter(like='categoryId_query').sum().sort_values(ascending=False).iloc[:5].index.tolist()\n",
    "top5categoryId_product = qi.filter(like='categoryId_product').sum().sort_values(ascending=False).iloc[:5].index.tolist()\n",
    "qi = qi[['duration_query', 'clicked', 'pricelog2', 'p_click'] + top5itemId + top5categoryId_query + top5categoryId_product]\n",
    "#fix inputs (top n categories)"
   ]
  },
  {
   "cell_type": "code",
   "execution_count": 45,
   "metadata": {},
   "outputs": [
    {
     "data": {
      "text/html": [
       "<div>\n",
       "<style scoped>\n",
       "    .dataframe tbody tr th:only-of-type {\n",
       "        vertical-align: middle;\n",
       "    }\n",
       "\n",
       "    .dataframe tbody tr th {\n",
       "        vertical-align: top;\n",
       "    }\n",
       "\n",
       "    .dataframe thead th {\n",
       "        text-align: right;\n",
       "    }\n",
       "</style>\n",
       "<table border=\"1\" class=\"dataframe\">\n",
       "  <thead>\n",
       "    <tr style=\"text-align: right;\">\n",
       "      <th></th>\n",
       "      <th>duration_query</th>\n",
       "      <th>clicked</th>\n",
       "      <th>pricelog2</th>\n",
       "      <th>p_click</th>\n",
       "      <th>itemId_32902</th>\n",
       "      <th>itemId_4991</th>\n",
       "      <th>itemId_9338</th>\n",
       "      <th>itemId_51125</th>\n",
       "      <th>itemId_2717</th>\n",
       "      <th>categoryId_query_0</th>\n",
       "      <th>categoryId_product_822</th>\n",
       "      <th>categoryId_product_88</th>\n",
       "      <th>categoryId_product_1096</th>\n",
       "      <th>categoryId_product_755</th>\n",
       "      <th>categoryId_product_655</th>\n",
       "    </tr>\n",
       "  </thead>\n",
       "  <tbody>\n",
       "    <tr>\n",
       "      <th>0</th>\n",
       "      <td>311</td>\n",
       "      <td>False</td>\n",
       "      <td>8</td>\n",
       "      <td>0.000000</td>\n",
       "      <td>0</td>\n",
       "      <td>0</td>\n",
       "      <td>0</td>\n",
       "      <td>0</td>\n",
       "      <td>0</td>\n",
       "      <td>1</td>\n",
       "      <td>0</td>\n",
       "      <td>0</td>\n",
       "      <td>0</td>\n",
       "      <td>0</td>\n",
       "      <td>0</td>\n",
       "    </tr>\n",
       "    <tr>\n",
       "      <th>1</th>\n",
       "      <td>311</td>\n",
       "      <td>False</td>\n",
       "      <td>8</td>\n",
       "      <td>0.000000</td>\n",
       "      <td>0</td>\n",
       "      <td>0</td>\n",
       "      <td>0</td>\n",
       "      <td>0</td>\n",
       "      <td>0</td>\n",
       "      <td>1</td>\n",
       "      <td>0</td>\n",
       "      <td>0</td>\n",
       "      <td>0</td>\n",
       "      <td>0</td>\n",
       "      <td>0</td>\n",
       "    </tr>\n",
       "    <tr>\n",
       "      <th>2</th>\n",
       "      <td>311</td>\n",
       "      <td>False</td>\n",
       "      <td>8</td>\n",
       "      <td>0.000000</td>\n",
       "      <td>0</td>\n",
       "      <td>0</td>\n",
       "      <td>0</td>\n",
       "      <td>0</td>\n",
       "      <td>0</td>\n",
       "      <td>1</td>\n",
       "      <td>0</td>\n",
       "      <td>0</td>\n",
       "      <td>0</td>\n",
       "      <td>0</td>\n",
       "      <td>0</td>\n",
       "    </tr>\n",
       "    <tr>\n",
       "      <th>3</th>\n",
       "      <td>311</td>\n",
       "      <td>False</td>\n",
       "      <td>8</td>\n",
       "      <td>0.083333</td>\n",
       "      <td>0</td>\n",
       "      <td>0</td>\n",
       "      <td>0</td>\n",
       "      <td>0</td>\n",
       "      <td>0</td>\n",
       "      <td>1</td>\n",
       "      <td>0</td>\n",
       "      <td>0</td>\n",
       "      <td>0</td>\n",
       "      <td>0</td>\n",
       "      <td>0</td>\n",
       "    </tr>\n",
       "    <tr>\n",
       "      <th>4</th>\n",
       "      <td>311</td>\n",
       "      <td>False</td>\n",
       "      <td>8</td>\n",
       "      <td>0.027778</td>\n",
       "      <td>0</td>\n",
       "      <td>0</td>\n",
       "      <td>0</td>\n",
       "      <td>0</td>\n",
       "      <td>0</td>\n",
       "      <td>1</td>\n",
       "      <td>0</td>\n",
       "      <td>0</td>\n",
       "      <td>0</td>\n",
       "      <td>0</td>\n",
       "      <td>0</td>\n",
       "    </tr>\n",
       "    <tr>\n",
       "      <th>...</th>\n",
       "      <td>...</td>\n",
       "      <td>...</td>\n",
       "      <td>...</td>\n",
       "      <td>...</td>\n",
       "      <td>...</td>\n",
       "      <td>...</td>\n",
       "      <td>...</td>\n",
       "      <td>...</td>\n",
       "      <td>...</td>\n",
       "      <td>...</td>\n",
       "      <td>...</td>\n",
       "      <td>...</td>\n",
       "      <td>...</td>\n",
       "      <td>...</td>\n",
       "      <td>...</td>\n",
       "    </tr>\n",
       "    <tr>\n",
       "      <th>96370</th>\n",
       "      <td>418</td>\n",
       "      <td>False</td>\n",
       "      <td>8</td>\n",
       "      <td>0.000000</td>\n",
       "      <td>0</td>\n",
       "      <td>0</td>\n",
       "      <td>0</td>\n",
       "      <td>0</td>\n",
       "      <td>0</td>\n",
       "      <td>1</td>\n",
       "      <td>0</td>\n",
       "      <td>0</td>\n",
       "      <td>0</td>\n",
       "      <td>0</td>\n",
       "      <td>0</td>\n",
       "    </tr>\n",
       "    <tr>\n",
       "      <th>96371</th>\n",
       "      <td>418</td>\n",
       "      <td>False</td>\n",
       "      <td>9</td>\n",
       "      <td>0.050000</td>\n",
       "      <td>0</td>\n",
       "      <td>0</td>\n",
       "      <td>0</td>\n",
       "      <td>0</td>\n",
       "      <td>0</td>\n",
       "      <td>1</td>\n",
       "      <td>0</td>\n",
       "      <td>0</td>\n",
       "      <td>0</td>\n",
       "      <td>0</td>\n",
       "      <td>0</td>\n",
       "    </tr>\n",
       "    <tr>\n",
       "      <th>96372</th>\n",
       "      <td>418</td>\n",
       "      <td>False</td>\n",
       "      <td>9</td>\n",
       "      <td>0.000000</td>\n",
       "      <td>0</td>\n",
       "      <td>0</td>\n",
       "      <td>0</td>\n",
       "      <td>0</td>\n",
       "      <td>0</td>\n",
       "      <td>1</td>\n",
       "      <td>0</td>\n",
       "      <td>0</td>\n",
       "      <td>0</td>\n",
       "      <td>0</td>\n",
       "      <td>0</td>\n",
       "    </tr>\n",
       "    <tr>\n",
       "      <th>96373</th>\n",
       "      <td>418</td>\n",
       "      <td>False</td>\n",
       "      <td>0</td>\n",
       "      <td>0.000000</td>\n",
       "      <td>0</td>\n",
       "      <td>0</td>\n",
       "      <td>0</td>\n",
       "      <td>0</td>\n",
       "      <td>0</td>\n",
       "      <td>1</td>\n",
       "      <td>0</td>\n",
       "      <td>0</td>\n",
       "      <td>0</td>\n",
       "      <td>0</td>\n",
       "      <td>0</td>\n",
       "    </tr>\n",
       "    <tr>\n",
       "      <th>96374</th>\n",
       "      <td>418</td>\n",
       "      <td>False</td>\n",
       "      <td>0</td>\n",
       "      <td>0.000000</td>\n",
       "      <td>0</td>\n",
       "      <td>0</td>\n",
       "      <td>0</td>\n",
       "      <td>0</td>\n",
       "      <td>0</td>\n",
       "      <td>1</td>\n",
       "      <td>0</td>\n",
       "      <td>0</td>\n",
       "      <td>0</td>\n",
       "      <td>0</td>\n",
       "      <td>0</td>\n",
       "    </tr>\n",
       "  </tbody>\n",
       "</table>\n",
       "<p>96375 rows × 15 columns</p>\n",
       "</div>"
      ],
      "text/plain": [
       "       duration_query  clicked  pricelog2   p_click  itemId_32902  \\\n",
       "0                 311    False          8  0.000000             0   \n",
       "1                 311    False          8  0.000000             0   \n",
       "2                 311    False          8  0.000000             0   \n",
       "3                 311    False          8  0.083333             0   \n",
       "4                 311    False          8  0.027778             0   \n",
       "...               ...      ...        ...       ...           ...   \n",
       "96370             418    False          8  0.000000             0   \n",
       "96371             418    False          9  0.050000             0   \n",
       "96372             418    False          9  0.000000             0   \n",
       "96373             418    False          0  0.000000             0   \n",
       "96374             418    False          0  0.000000             0   \n",
       "\n",
       "       itemId_4991  itemId_9338  itemId_51125  itemId_2717  \\\n",
       "0                0            0             0            0   \n",
       "1                0            0             0            0   \n",
       "2                0            0             0            0   \n",
       "3                0            0             0            0   \n",
       "4                0            0             0            0   \n",
       "...            ...          ...           ...          ...   \n",
       "96370            0            0             0            0   \n",
       "96371            0            0             0            0   \n",
       "96372            0            0             0            0   \n",
       "96373            0            0             0            0   \n",
       "96374            0            0             0            0   \n",
       "\n",
       "       categoryId_query_0  categoryId_product_822  categoryId_product_88  \\\n",
       "0                       1                       0                      0   \n",
       "1                       1                       0                      0   \n",
       "2                       1                       0                      0   \n",
       "3                       1                       0                      0   \n",
       "4                       1                       0                      0   \n",
       "...                   ...                     ...                    ...   \n",
       "96370                   1                       0                      0   \n",
       "96371                   1                       0                      0   \n",
       "96372                   1                       0                      0   \n",
       "96373                   1                       0                      0   \n",
       "96374                   1                       0                      0   \n",
       "\n",
       "       categoryId_product_1096  categoryId_product_755  categoryId_product_655  \n",
       "0                            0                       0                       0  \n",
       "1                            0                       0                       0  \n",
       "2                            0                       0                       0  \n",
       "3                            0                       0                       0  \n",
       "4                            0                       0                       0  \n",
       "...                        ...                     ...                     ...  \n",
       "96370                        0                       0                       0  \n",
       "96371                        0                       0                       0  \n",
       "96372                        0                       0                       0  \n",
       "96373                        0                       0                       0  \n",
       "96374                        0                       0                       0  \n",
       "\n",
       "[96375 rows x 15 columns]"
      ]
     },
     "execution_count": 45,
     "metadata": {},
     "output_type": "execute_result"
    }
   ],
   "source": [
    "qi"
   ]
  },
  {
   "cell_type": "code",
   "execution_count": 22,
   "metadata": {},
   "outputs": [],
   "source": [
    "x = qi.drop(columns=['clicked', 'p_click'])\n",
    "y = qi['clicked'] * 1"
   ]
  },
  {
   "cell_type": "code",
   "execution_count": 24,
   "metadata": {
    "ExecuteTime": {
     "end_time": "2022-03-22T16:57:09.131700Z",
     "start_time": "2022-03-22T16:57:09.121726Z"
    },
    "scrolled": true
   },
   "outputs": [],
   "source": [
    "x_train, x_test, y_train, y_test = sklearn.model_selection.train_test_split(x,y,shuffle=True,train_size=0.70)\n",
    "y_train = y_train.to_frame('y')\n",
    "y_test = y_test.to_frame('y')"
   ]
  },
  {
   "cell_type": "code",
   "execution_count": 25,
   "metadata": {
    "ExecuteTime": {
     "end_time": "2022-03-22T16:57:09.155744Z",
     "start_time": "2022-03-22T16:57:09.133694Z"
    },
    "scrolled": true
   },
   "outputs": [],
   "source": [
    "x_scaler = sklearn.preprocessing.StandardScaler()\n",
    "# y_scaler = sklearn.preprocessing.StandardScaler()\n",
    "\n",
    "x_train = pd.DataFrame(x_scaler.fit_transform(x_train),index = x_train.index, columns = x_train.columns)\n",
    "x_test =  pd.DataFrame(x_scaler.transform(x_test),index = x_test.index, columns = x_test.columns)\n",
    "# y_train = pd.DataFrame(y_scaler.fit_transform(y_train),index = y_train.index, columns = y_train.columns)\n",
    "# y_test =  pd.DataFrame(y_scaler.transform(y_test),index = y_test.index, columns = y_test.columns)"
   ]
  },
  {
   "cell_type": "code",
   "execution_count": 26,
   "metadata": {
    "ExecuteTime": {
     "end_time": "2022-03-22T16:57:09.193656Z",
     "start_time": "2022-03-22T16:57:09.159625Z"
    }
   },
   "outputs": [],
   "source": [
    "x_train = torch.tensor(x_train.values).float()\n",
    "x_test = torch.tensor(x_test.values).float()\n",
    "y_train = torch.tensor(y_train.values).float()\n",
    "y_test = torch.tensor(y_test.values).float()"
   ]
  },
  {
   "cell_type": "markdown",
   "metadata": {},
   "source": [
    "# NN setup"
   ]
  },
  {
   "cell_type": "code",
   "execution_count": 27,
   "metadata": {
    "ExecuteTime": {
     "end_time": "2022-03-23T00:57:35.264206Z",
     "start_time": "2022-03-23T00:57:35.259217Z"
    }
   },
   "outputs": [],
   "source": [
    "class CustomDataset(torch.utils.data.Dataset):\n",
    "    def __init__(self, x,y):\n",
    "        self.x = x\n",
    "        self.y = y\n",
    "    def __len__(self):\n",
    "        return len(self.x)\n",
    "    def __getitem__(self, idx):\n",
    "        return {\n",
    "            'x': self.x[idx,:],\n",
    "            'y': self.y[idx,:],\n",
    "        }"
   ]
  },
  {
   "cell_type": "code",
   "execution_count": 28,
   "metadata": {
    "ExecuteTime": {
     "end_time": "2022-03-23T00:57:35.391399Z",
     "start_time": "2022-03-23T00:57:35.385411Z"
    }
   },
   "outputs": [],
   "source": [
    "class SimpleNN(torch.nn.Module):\n",
    "    def __init__(self,insize,linlayers):\n",
    "        super(type(self),self).__init__()\n",
    "        self.linlayers_size = linlayers\n",
    "        self.layers=[]\n",
    "        \n",
    "        prev = insize\n",
    "        for curlayersize in self.linlayers_size:\n",
    "            self.layers.append(torch.nn.Linear(prev,curlayersize))\n",
    "            self.layers.append(torch.nn.ReLU())\n",
    "            prev = curlayersize\n",
    "        self.layers.append(torch.nn.Linear(self.linlayers_size[-1],1,bias=True))\n",
    "        # self.layers.append(torch.nn.Sigmoid())\n",
    "        self.layers = torch.nn.Sequential(*self.layers)\n",
    "        \n",
    "    def forward(self,x):\n",
    "        x = self.layers(x)\n",
    "        return x"
   ]
  },
  {
   "cell_type": "code",
   "execution_count": 29,
   "metadata": {
    "ExecuteTime": {
     "end_time": "2022-03-23T00:57:35.536371Z",
     "start_time": "2022-03-23T00:57:35.522409Z"
    },
    "scrolled": false
   },
   "outputs": [
    {
     "name": "stdout",
     "output_type": "stream",
     "text": [
      "  8: 256  , 263.5 iter\n",
      "  9: 512  , 131.8 iter\n",
      " 10: 1024 , 65.9 iter\n",
      " 11: 2048 , 32.9 iter\n",
      " 12: 4096 , 16.5 iter\n",
      " 13: 8192 , 8.2 iter\n",
      " 14: 16384, 4.1 iter\n",
      " 15: 32768, 2.1 iter\n"
     ]
    }
   ],
   "source": [
    "for i in range(8,16,1):\n",
    "    print(f\"{i:>3}: {2**i:<5}, {x_train.shape[0]/(2**i):.1f} iter\")"
   ]
  },
  {
   "cell_type": "markdown",
   "metadata": {
    "ExecuteTime": {
     "end_time": "2022-03-21T18:06:46.193027Z",
     "start_time": "2022-03-21T18:06:46.189010Z"
    }
   },
   "source": [
    "# Train Params"
   ]
  },
  {
   "cell_type": "code",
   "execution_count": 30,
   "metadata": {
    "ExecuteTime": {
     "end_time": "2022-03-23T01:02:19.999833Z",
     "start_time": "2022-03-23T01:02:19.993847Z"
    }
   },
   "outputs": [],
   "source": [
    "# LOSS\n",
    "\n",
    "def L2Loss(model):\n",
    "    return sum(p.pow(2.0).sum() for p in model.parameters())\n",
    "\n",
    "def ctr_loss(x, p_click, p_click_hat):\n",
    "    # binary cross entropy\n",
    "    m = nn.Sigmoid()\n",
    "    loss = nn.BCELoss()\n",
    "    input = p_click_hat\n",
    "    target = p_click\n",
    "    output = loss(m(input), target)\n",
    "    return output\n",
    "\n",
    "def gmv_loss(x, p_click, p_click_hat):\n",
    "    # binary cross entropy\n",
    "    m = nn.Sigmoid()\n",
    "    loss = nn.BCELoss()\n",
    "    input = p_click_hat\n",
    "    target = p_click\n",
    "    output = loss(m(input * x[:,1].unsqueeze(1)), target)\n",
    "    return output\n",
    "\n",
    "# losses\n",
    "Lfx = {\n",
    "    0:ctr_loss,\n",
    "    1:gmv_loss,\n",
    "}\n",
    "L={\n",
    "    0:None,\n",
    "    1:None,\n",
    "}\n",
    "# loss weights\n",
    "w = {\n",
    "    0:1,\n",
    "    1:1,\n",
    "}\n",
    "# boundary conditions (minimum weights)\n",
    "c = {\n",
    "    0:0.2,\n",
    "    1:0.2,\n",
    "}\n",
    "grad = {\n",
    "    0:[],\n",
    "    1:[],\n",
    "}"
   ]
  },
  {
   "cell_type": "code",
   "execution_count": 31,
   "metadata": {
    "ExecuteTime": {
     "end_time": "2022-03-23T01:02:20.175380Z",
     "start_time": "2022-03-23T01:02:20.123516Z"
    }
   },
   "outputs": [],
   "source": [
    "def pareto(w_in,c_in,G_in):\n",
    "    G = G_in.numpy()\n",
    "    K,M = G.shape\n",
    "    c = np.expand_dims(np.array([c_in[i] for i in range(K)]),1)\n",
    "    w = np.expand_dims(np.array([w_in[i] for i in range(K)]),1)\n",
    "    #print(f\"K: {K}\")\n",
    "    #print(f\"M: {M}\")\n",
    "    #print(f\"c: {c.shape}\")\n",
    "    #print(f\"w: {w.shape}\")\n",
    "    \n",
    "    # building e\n",
    "    e = np.ones(w.shape)\n",
    "    #print(f\"e: {e.shape}\")\n",
    "    \n",
    "    # building M\n",
    "    GGT = np.matmul(G,G.T)\n",
    "    #print(f\"GGT: {GGT.shape}\")\n",
    "    \n",
    "    m_top = np.hstack((GGT, e))\n",
    "    m_bot = np.hstack((e.T, np.zeros((1,1))))\n",
    "    M = np.vstack((m_top,m_bot))\n",
    "    #print(f\"GGT: {GGT.shape}\")\n",
    "    \n",
    "    # building z\n",
    "    z = np.vstack((-np.matmul(GGT,c),1-np.sum(c)))\n",
    "    #print(f\"z: {z.shape}\")\n",
    "    \n",
    "    # building w_hat\n",
    "    w_hat = np.linalg.inv(np.matmul(M.T,M)) #(MT * M)**-1\n",
    "    w_hat = np.matmul(w_hat,M)\n",
    "    w_hat = np.matmul(w_hat,z)\n",
    "    w_hat = w_hat[1:]\n",
    "    \n",
    "    # at this point, w_hat could be negative, so we have to make them non-negative\n",
    "    \n",
    "    return w_hat\n",
    "#w_hat = pareto(w,c,G)\n",
    "#display(w_hat)"
   ]
  },
  {
   "cell_type": "code",
   "execution_count": 32,
   "metadata": {
    "ExecuteTime": {
     "end_time": "2022-03-23T01:02:20.278341Z",
     "start_time": "2022-03-23T01:02:20.268364Z"
    },
    "scrolled": true
   },
   "outputs": [],
   "source": [
    "# from github page\n",
    "def ASM(hat_w, c_in):\n",
    "    \"\"\"\n",
    "    ref:\n",
    "    http://ofey.me/papers/Pareto.pdf,\n",
    "    https://stackoverflow.com/questions/33385898/how-to-include-constraint-to-scipy-nnls-function-solution-so-that-it-sums-to-1\n",
    "    :param hat_w: # (K,)\n",
    "    :param c: # (K,)\n",
    "    :return:\n",
    "    \"\"\"\n",
    "    \n",
    "    #reformat c\n",
    "    c = np.expand_dims(np.array([c_in[i] for i in range(2)]),1)\n",
    "    \n",
    "    A = np.array([[0 if i != j else 1 for i in range(len(c))] for j in range(len(c))])\n",
    "    b = hat_w.squeeze()\n",
    "    x0, _ = scipy.optimize.nnls(A, b)\n",
    "\n",
    "    def _fn(x, A, b):\n",
    "        return np.linalg.norm(A.dot(x) - b)\n",
    "\n",
    "    cons = {'type': 'eq', 'fun': lambda x: np.sum(x) + np.sum(c) - 1}\n",
    "    bounds = [[0., None] for _ in range(len(hat_w))]\n",
    "    min_out = scipy.optimize.minimize(_fn, x0, args=(A, b), method='SLSQP', bounds=bounds, constraints=cons)\n",
    "    new_w = min_out.x + c.squeeze()\n",
    "    return new_w\n",
    "#new_w_hat = ASM(w_hat, c)\n",
    "#new_w_hat"
   ]
  },
  {
   "cell_type": "code",
   "execution_count": 33,
   "metadata": {
    "ExecuteTime": {
     "end_time": "2022-03-23T01:05:28.435284Z",
     "start_time": "2022-03-23T01:05:28.428274Z"
    },
    "scrolled": true
   },
   "outputs": [
    {
     "data": {
      "text/plain": [
       "SimpleNN(\n",
       "  (layers): Sequential(\n",
       "    (0): Linear(in_features=13, out_features=64, bias=True)\n",
       "    (1): ReLU()\n",
       "    (2): Linear(in_features=64, out_features=1, bias=True)\n",
       "  )\n",
       ")"
      ]
     },
     "execution_count": 33,
     "metadata": {},
     "output_type": "execute_result"
    }
   ],
   "source": [
    "model = SimpleNN(x_train.shape[1],[64])\n",
    "model"
   ]
  },
  {
   "cell_type": "code",
   "execution_count": 34,
   "metadata": {
    "ExecuteTime": {
     "end_time": "2022-03-23T01:05:28.585180Z",
     "start_time": "2022-03-23T01:05:28.581217Z"
    }
   },
   "outputs": [],
   "source": [
    "param={\n",
    "    'batch_size':2**14,\n",
    "    'epochs':1_000,\n",
    "    'optim':torch.optim.Adam(model.parameters(), 0.001),\n",
    "}"
   ]
  },
  {
   "cell_type": "code",
   "execution_count": 35,
   "metadata": {
    "ExecuteTime": {
     "end_time": "2022-03-23T01:05:28.744321Z",
     "start_time": "2022-03-23T01:05:28.740330Z"
    }
   },
   "outputs": [],
   "source": [
    "dataset = CustomDataset(x_train,y_train)\n",
    "dataloader = torch.utils.data.DataLoader(dataset, batch_size=param['batch_size'], shuffle=True)"
   ]
  },
  {
   "cell_type": "code",
   "execution_count": 36,
   "metadata": {
    "ExecuteTime": {
     "end_time": "2022-03-23T01:07:06.779410Z",
     "start_time": "2022-03-23T01:05:28.901085Z"
    },
    "scrolled": true
   },
   "outputs": [
    {
     "name": "stdout",
     "output_type": "stream",
     "text": [
      "e: 99; b: 4\r"
     ]
    }
   ],
   "source": [
    "training={\n",
    "    'train':{0:[],1:[]},\n",
    "    'valid':{0:[],1:[]},\n",
    "    'time':[],\n",
    "    'w':{\n",
    "        0:[],\n",
    "        1:[],\n",
    "    }\n",
    "}\n",
    "\n",
    "def NoneGrad(model):\n",
    "    for i in model.parameters():\n",
    "        i.grad=None\n",
    "        \n",
    "\n",
    "for e in range(param['epochs']):\n",
    "    curtime = time.time()\n",
    "    \n",
    "    batchloss={0:[],1:[]}\n",
    "    for b,batch in enumerate(dataloader):\n",
    "        print(f\"e: {e}; b: {b}\",end='\\r',flush=True)\n",
    "        \n",
    "        # -----train-----\n",
    "        model.train()\n",
    "        \n",
    "        # zero out grad\n",
    "        param['optim'].zero_grad()\n",
    "        # predict\n",
    "        y_hat = model.forward(batch['x'])\n",
    "        # loss\n",
    "        L[0] = Lfx[0](batch['x'], batch['y'], y_hat)\n",
    "        L[1] = Lfx[1](batch['x'], batch['y'], y_hat)\n",
    "        # store loss individually for tracking purposes\n",
    "        for i in Lfx:\n",
    "            batchloss[i].append(L[i].detach())\n",
    "        # gradients w.r.t. each loss\n",
    "        for i in Lfx:\n",
    "            L[i].backward(retain_graph=True)\n",
    "            grad[i]=[j.grad for j in model.parameters()]\n",
    "            NoneGrad(model)\n",
    "        # flatten and stack grads, such that G = KxM where K = # of losses, M = total # of params\n",
    "        G = torch.stack([torch.cat([i.flatten() for i in grad[j]]) for j in Lfx])\n",
    "                \n",
    "        # INSERT PARETO STEP HERE TO FIND w\n",
    "        # pareto step\n",
    "        w_hat = pareto(w,c,G)\n",
    "        # constraints - non-neg, sum to 1\n",
    "        new_w_hat = ASM(w_hat, c)\n",
    "        # update w_hat\n",
    "        for i in w:\n",
    "            # multi = 1\n",
    "            # if i==1: # manual weighting for L2 loss since scale is so different\n",
    "            #     multi = 0.1\n",
    "            # w[i] = new_w_hat[i] * multi\n",
    "            w[i] = new_w_hat[i]\n",
    "            training['w'][i].append(new_w_hat[i])\n",
    "            \n",
    "        # backprop\n",
    "        (sum([L[i]*w[i] for i in Lfx])).backward()\n",
    "        \n",
    "        # update\n",
    "        param['optim'].step()\n",
    "    for i in Lfx:\n",
    "        training['train'][i].append(np.mean(batchloss[i]))\n",
    "    \n",
    "    # -----valid-----\n",
    "    model.eval()\n",
    "    \n",
    "    y_test_hat = model.forward(x_test)\n",
    "    \n",
    "    L0_valid = Lfx[0](x_test, y_test, y_test_hat)\n",
    "    L1_valid = Lfx[1](x_test, y_test, y_test_hat)\n",
    "    \n",
    "    training['valid'][0].append(L0_valid.detach())\n",
    "    training['valid'][1].append(L1_valid.detach())\n",
    "    \n",
    "    training['time'].append(time.time()-curtime)\n",
    "    "
   ]
  },
  {
   "cell_type": "code",
   "execution_count": 37,
   "metadata": {},
   "outputs": [
    {
     "data": {
      "text/plain": [
       "array([0., 0., 0., ..., 0., 0., 0.], dtype=float32)"
      ]
     },
     "execution_count": 37,
     "metadata": {},
     "output_type": "execute_result"
    }
   ],
   "source": [
    "y_test.detach()[:,0].numpy()"
   ]
  },
  {
   "cell_type": "code",
   "execution_count": 38,
   "metadata": {
    "ExecuteTime": {
     "end_time": "2022-03-23T01:07:07.410568Z",
     "start_time": "2022-03-23T01:07:06.782401Z"
    },
    "scrolled": false
   },
   "outputs": [
    {
     "data": {
      "image/png": "[encoded data removed]",
      "text/plain": [
       "<Figure size 720x216 with 2 Axes>"
      ]
     },
     "metadata": {
      "needs_background": "light"
     },
     "output_type": "display_data"
    },
    {
     "data": {
      "image/png": "[encoded data removed]",
      "text/plain": [
       "<Figure size 288x288 with 1 Axes>"
      ]
     },
     "metadata": {
      "needs_background": "light"
     },
     "output_type": "display_data"
    },
    {
     "data": {
      "image/png": "[encoded data removed]",
      "text/plain": [
       "<Figure size 720x216 with 1 Axes>"
      ]
     },
     "metadata": {
      "needs_background": "light"
     },
     "output_type": "display_data"
    }
   ],
   "source": [
    "fig,axs = plt.subplots(nrows=2, figsize=(10,3),sharex=True)\n",
    "axs[0].plot(training['train'][0],label='train L0')\n",
    "axs[0].plot(training['valid'][0],label='valid L0')\n",
    "axs[1].plot(training['train'][1],label='train L1')\n",
    "axs[1].plot(training['valid'][1],label='valid L1')\n",
    "axs[0].legend()\n",
    "axs[1].legend()\n",
    "axs[0].set_title(f\"epoch_time: {np.mean(training['time']):.3f}s\")\n",
    "plt.show()\n",
    "                 \n",
    "                 \n",
    "fig,axs = plt.subplots(figsize=(4,4))\n",
    "axs.hist2d(y_test.detach()[:,0].numpy(), y_test_hat.detach()[:,0].numpy(),bins = np.arange(-2,3,0.2))\n",
    "axs.plot([-2,3],[-2,3])\n",
    "axs.set_xlabel('y_test')\n",
    "axs.set_ylabel('y_test_hat')\n",
    "plt.show()\n",
    "                 \n",
    "fig,axs = plt.subplots(figsize=(10,3))\n",
    "axs.plot(training['w'][0],label='0')\n",
    "axs.plot(training['w'][1],label='1')\n",
    "axs.legend()\n",
    "plt.show()"
   ]
  },
  {
   "cell_type": "code",
   "execution_count": 41,
   "metadata": {},
   "outputs": [
    {
     "data": {
      "text/plain": [
       "(0.5213217661807289, 0.03943837340361496)"
      ]
     },
     "execution_count": 41,
     "metadata": {},
     "output_type": "execute_result"
    }
   ],
   "source": [
    "sklearn.metrics.roc_auc_score(y_test.detach().numpy(), y_test_hat.detach().numpy()), sklearn.metrics.average_precision_score(y_test.detach().numpy(), y_test_hat.detach().numpy())"
   ]
  },
  {
   "cell_type": "code",
   "execution_count": 44,
   "metadata": {},
   "outputs": [
    {
     "data": {
      "text/plain": [
       "[<matplotlib.lines.Line2D at 0x18b06b1f9d0>]"
      ]
     },
     "execution_count": 44,
     "metadata": {},
     "output_type": "execute_result"
    },
    {
     "data": {
      "image/png": "[encoded data removed]",
      "text/plain": [
       "<Figure size 432x288 with 1 Axes>"
      ]
     },
     "metadata": {
      "needs_background": "light"
     },
     "output_type": "display_data"
    }
   ],
   "source": [
    "fpr, tpr, _ = sklearn.metrics.roc_curve(y_test.detach().numpy(), y_test_hat.detach().numpy())\n",
    "plt.plot(fpr, tpr)"
   ]
  },
  {
   "cell_type": "code",
   "execution_count": 47,
   "metadata": {},
   "outputs": [
    {
     "data": {
      "text/plain": [
       "[<matplotlib.lines.Line2D at 0x18b07300d90>]"
      ]
     },
     "execution_count": 47,
     "metadata": {},
     "output_type": "execute_result"
    },
    {
     "data": {
      "image/png": "[encoded data removed]",
      "text/plain": [
       "<Figure size 432x288 with 1 Axes>"
      ]
     },
     "metadata": {
      "needs_background": "light"
     },
     "output_type": "display_data"
    }
   ],
   "source": [
    "prec, recall, _ = sklearn.metrics.precision_recall_curve(y_test.detach().numpy(), y_test_hat.detach().numpy())\n",
    "plt.plot(recall, prec)"
   ]
  },
  {
   "cell_type": "code",
   "execution_count": 50,
   "metadata": {},
   "outputs": [
    {
     "data": {
      "text/plain": [
       "tensor(0.0980, grad_fn=<MeanBackward0>)"
      ]
     },
     "execution_count": 50,
     "metadata": {},
     "output_type": "execute_result"
    }
   ],
   "source": [
    "nn.Sigmoid()(y_test_hat).mean()"
   ]
  }
 ],
 "metadata": {
  "kernelspec": {
   "display_name": "Python 3",
   "language": "python",
   "name": "python3"
  },
  "language_info": {
   "codemirror_mode": {
    "name": "ipython",
    "version": 3
   },
   "file_extension": ".py",
   "mimetype": "text/x-python",
   "name": "python",
   "nbconvert_exporter": "python",
   "pygments_lexer": "ipython3",
   "version": "3.9.9"
  }
 },
 "nbformat": 4,
 "nbformat_minor": 2
}
