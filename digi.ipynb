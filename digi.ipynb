{
 "cells": [
  {
   "cell_type": "markdown",
   "metadata": {},
   "source": [
    "DIGINETICA\n",
    "\n",
    "https://competitions.codalab.org/competitions/11161#learn_the_details-evaluation"
   ]
  },
  {
   "cell_type": "code",
   "execution_count": 1,
   "metadata": {},
   "outputs": [],
   "source": [
    "import pandas as pd\n",
    "import numpy as np\n",
    "import util"
   ]
  },
  {
   "cell_type": "code",
   "execution_count": 2,
   "metadata": {},
   "outputs": [
    {
     "name": "stderr",
     "output_type": "stream",
     "text": [
      "/home/yua4/pareto/venv/lib/python3.6/site-packages/IPython/core/interactiveshell.py:3072: DtypeWarning: Columns (6) have mixed types.Specify dtype option on import or set low_memory=False.\n",
      "  interactivity=interactivity, compiler=compiler, result=result)\n"
     ]
    }
   ],
   "source": [
    "q = pd.read_csv('./data/diginetica/dataset-train-diginetica/train-queries.csv', sep=';')\n",
    "v = pd.read_csv('./data/diginetica/dataset-train-diginetica/train-item-views.csv', sep=';')\n",
    "c = pd.read_csv('./data/diginetica/dataset-train-diginetica/train-clicks.csv', sep=';')\n",
    "p = pd.read_csv('./data/diginetica/dataset-train-diginetica/train-purchases.csv', sep=';')\n",
    "products = pd.read_csv('./data/diginetica/dataset-train-diginetica/products.csv', sep=';')\n",
    "product_cat = pd.read_csv('./data/diginetica/dataset-train-diginetica/product-categories.csv', sep=';')"
   ]
  },
  {
   "cell_type": "code",
   "execution_count": 3,
   "metadata": {},
   "outputs": [
    {
     "name": "stdout",
     "output_type": "stream",
     "text": [
      "q:           ['queryId', 'sessionId', 'userId', 'timeframe', 'duration', 'eventdate', 'searchstring.tokens', 'categoryId', 'items', 'is.test']\n",
      "v:           ['sessionId', 'userId', 'itemId', 'timeframe', 'eventdate']\n",
      "c:           ['queryId', 'timeframe', 'itemId']\n",
      "p:           ['sessionId', 'userId', 'timeframe', 'eventdate', 'ordernumber', 'itemId']\n",
      "products:    ['itemId', 'pricelog2', 'product.name.tokens']\n",
      "product_cat: ['itemId', 'categoryId']\n"
     ]
    }
   ],
   "source": [
    "print(f'q:           {list(q.columns)}')\n",
    "print(f'v:           {list(v.columns)}')\n",
    "print(f'c:           {list(c.columns)}')\n",
    "print(f'p:           {list(p.columns)}')\n",
    "print(f'products:    {list(products.columns)}')\n",
    "print(f'product_cat: {list(product_cat.columns)}')\n"
   ]
  },
  {
   "cell_type": "code",
   "execution_count": 9,
   "metadata": {},
   "outputs": [
    {
     "data": {
      "text/plain": [
       "(923127, 10)"
      ]
     },
     "execution_count": 9,
     "metadata": {},
     "output_type": "execute_result"
    }
   ],
   "source": [
    "q.shape"
   ]
  },
  {
   "cell_type": "code",
   "execution_count": 4,
   "metadata": {},
   "outputs": [],
   "source": [
    "qq = q.iloc[:10_000].copy()"
   ]
  },
  {
   "cell_type": "code",
   "execution_count": 5,
   "metadata": {},
   "outputs": [],
   "source": [
    "# query items\n",
    "qi = []\n",
    "for _, row in qq.iterrows():\n",
    "    qi += [[row['userId'], row['sessionId'], row['queryId'], i, int(item)] for i, item in enumerate(row['items'].split(','))]\n",
    "qi = pd.DataFrame(qi, columns=['userId', 'sessionId', 'queryId', 'position', 'itemId'])\n",
    "# clicks\n",
    "qi = pd.merge(qi, c, how='left', on=['queryId', 'itemId'])\n",
    "qi = qi.rename(columns={'timeframe': 'clicked'})\n",
    "qi.loc[pd.notna(qi['clicked']), 'clicked'] = 1\n",
    "qi.loc[pd.isna(qi['clicked']), 'clicked'] = 0\n",
    "# purchases\n",
    "qi = pd.merge(qi, p[['userId', 'sessionId', 'itemId', 'timeframe']], how='left', on=['userId', 'sessionId', 'itemId'])\n",
    "qi = qi.rename(columns={'timeframe': 'purchased'})\n",
    "qi.loc[pd.notna(qi['purchased']), 'purchased'] = 1\n",
    "qi.loc[pd.isna(qi['purchased']), 'purchased'] = 0\n",
    "# product prices\n",
    "qi = pd.merge(qi, products[['itemId', 'pricelog2']], how='left', on=['itemId'])\n",
    "qi = qi.rename(columns={'pricelog2': 'price'})\n",
    "# totals\n",
    "totals = qi.groupby('queryId')[['clicked', 'purchased']].sum().reset_index().rename(columns={'clicked':'clicked_total', 'purchased':'purchased_total', })\n",
    "qi = qi.merge(totals, on='queryId')"
   ]
  },
  {
   "cell_type": "code",
   "execution_count": 6,
   "metadata": {},
   "outputs": [],
   "source": [
    "# 6.2.2\n",
    "no_clicks = qi['clicked_total'] == 0\n",
    "no_purchases = qi['purchased_total'] == 0\n",
    "qi_groupby_cumsum = qi.groupby('queryId').cumsum()\n",
    "metrics = pd.DataFrame()\n",
    "\n",
    "qi.loc[no_clicks, 'c_map'] = 0\n",
    "qi.loc[no_clicks, 'c_ndcg'] = 0\n",
    "qi.loc[~no_clicks, 'cum_clicks'] = qi.groupby('queryId')['clicked'].cumsum()\n",
    "qi.loc[~no_clicks, 'c_ap'] = (qi['cum_clicks'] / (qi['position'] + 1))\n",
    "qi.loc[~no_clicks, 'c_ap_cumsum'] = (1 / (qi['position'] + 1)) * qi.groupby('queryId')['c_ap'].cumsum()\n",
    "qi.loc[(~no_clicks) & (qi['clicked'] == 0), 'c_ap_cumsum'] = 0\n",
    "# qi.loc[~no_clicks, 'c_map'] = qi.groupby('queryId')['c_ap_cumsum'].cumsum()\n",
    "metrics['c_map'] = qi.groupby('position')['c_ap_cumsum'].sum() / len(qi[~no_clicks].groupby('queryId'))\n",
    "\n",
    "qi.loc[~no_clicks, 'c_dcg'] = (np.power(2, qi['cum_clicks']) - 1) / np.log2((qi['position'] + 1) + 1)\n",
    "qi.loc[~no_clicks, 'c_dcg_cumsum'] = qi.groupby('queryId')['c_dcg'].cumsum()\n",
    "qi.loc[~no_clicks, 'c_idcg'] = (np.power(2, (qi['position'] + 1)) - 1) / np.log2((qi['position'] + 1) + 1)\n",
    "qi.loc[~no_clicks, 'c_idcg_cumsum'] = qi.groupby('queryId')['c_idcg'].cumsum()\n",
    "qi.loc[~no_clicks, 'c_ndcg'] = qi['c_dcg_cumsum'] / qi['c_idcg_cumsum']\n",
    "metrics['c_ndcg'] = qi.groupby('position')['c_ndcg'].sum() / len(qi[~no_clicks].groupby('queryId'))\n",
    "\n",
    "# qi = qi.drop(columns=['c_ap', 'c_dcg', 'c_idcg', 'c_ap_cumsum', 'cum_clicks', 'c_dcg_cumsum', 'c_idcg_cumsum'])\n",
    "\n",
    "qi.loc[no_purchases, 'g_map'] = 0\n",
    "qi.loc[no_purchases, 'g_ndcg'] = 0\n",
    "qi.loc[~no_purchases, 'cum_purchases'] = qi.groupby('queryId')['purchased'].cumsum()\n",
    "qi.loc[~no_purchases, 'g_ap'] = (qi['cum_purchases'] / (qi['position'] + 1))\n",
    "qi.loc[~no_purchases, 'g_ap_cumsum'] = (1 / (qi['position'] + 1)) * qi.groupby('queryId')['g_ap'].cumsum()\n",
    "qi.loc[(~no_purchases) & (qi['purchased'] == 0), 'g_ap_cumsum'] = 0\n",
    "# qi.loc[~no_purchases, 'g_map'] = qi.groupby('queryId')['g_ap_cumsum'].cumsum()\n",
    "metrics['g_map'] = qi.groupby('position')['g_ap_cumsum'].sum() / len(qi[~no_purchases].groupby('queryId'))\n",
    "\n",
    "qi.loc[~no_purchases, 'g_dcg'] = qi['price'] * (np.power(2, qi['cum_purchases']) - 1) / np.log2((qi['position'] + 1) + 1)\n",
    "qi.loc[~no_purchases, 'g_dcg_cumsum'] = qi.groupby('queryId')['g_dcg'].cumsum()\n",
    "qi.loc[~no_purchases, 'g_idcg'] = qi['price'] * (np.power(2, (qi['position'] + 1)) - 1) / np.log2((qi['position'] + 1) + 1)\n",
    "qi.loc[~no_purchases, 'g_idcg_cumsum'] = qi.groupby('queryId')['g_idcg'].cumsum()\n",
    "qi.loc[(~no_purchases) & (qi['price'] == 0), 'g_ndcg'] = 0\n",
    "qi.loc[(~no_purchases) & (qi['price'] > 0), 'g_ndcg'] = qi['g_dcg'] / qi['g_idcg']\n",
    "metrics['g_ndcg'] = qi.groupby('position')['g_ndcg'].sum() / len(qi[~no_purchases].groupby('queryId'))\n",
    "\n",
    "# qi = qi.drop(columns=['g_ap', 'g_dcg', 'g_idcg', 'g_ap_cumsum', 'cum_purchases', 'g_dcg_cumsum', 'g_idcg_cumsum'])\n",
    "\n",
    "# qi = qi.drop(columns=['userId', 'sessionId', 'clicked_total', 'purchased_total'])"
   ]
  },
  {
   "cell_type": "code",
   "execution_count": 7,
   "metadata": {},
   "outputs": [
    {
     "data": {
      "text/html": [
       "<div>\n",
       "<style scoped>\n",
       "    .dataframe tbody tr th:only-of-type {\n",
       "        vertical-align: middle;\n",
       "    }\n",
       "\n",
       "    .dataframe tbody tr th {\n",
       "        vertical-align: top;\n",
       "    }\n",
       "\n",
       "    .dataframe thead th {\n",
       "        text-align: right;\n",
       "    }\n",
       "</style>\n",
       "<table border=\"1\" class=\"dataframe\">\n",
       "  <thead>\n",
       "    <tr style=\"text-align: right;\">\n",
       "      <th></th>\n",
       "      <th>c_map</th>\n",
       "      <th>c_ndcg</th>\n",
       "      <th>g_map</th>\n",
       "      <th>g_ndcg</th>\n",
       "    </tr>\n",
       "    <tr>\n",
       "      <th>position</th>\n",
       "      <th></th>\n",
       "      <th></th>\n",
       "      <th></th>\n",
       "      <th></th>\n",
       "    </tr>\n",
       "  </thead>\n",
       "  <tbody>\n",
       "    <tr>\n",
       "      <th>0</th>\n",
       "      <td>0.050139</td>\n",
       "      <td>0.049211</td>\n",
       "      <td>0.065217</td>\n",
       "      <td>6.521739e-02</td>\n",
       "    </tr>\n",
       "    <tr>\n",
       "      <th>1</th>\n",
       "      <td>0.013734</td>\n",
       "      <td>0.039309</td>\n",
       "      <td>0.010870</td>\n",
       "      <td>3.260870e-02</td>\n",
       "    </tr>\n",
       "    <tr>\n",
       "      <th>2</th>\n",
       "      <td>0.007015</td>\n",
       "      <td>0.030631</td>\n",
       "      <td>0.003623</td>\n",
       "      <td>1.863354e-02</td>\n",
       "    </tr>\n",
       "    <tr>\n",
       "      <th>3</th>\n",
       "      <td>0.003962</td>\n",
       "      <td>0.022665</td>\n",
       "      <td>0.004076</td>\n",
       "      <td>1.304348e-02</td>\n",
       "    </tr>\n",
       "    <tr>\n",
       "      <th>4</th>\n",
       "      <td>0.002848</td>\n",
       "      <td>0.016192</td>\n",
       "      <td>0.003043</td>\n",
       "      <td>7.713885e-03</td>\n",
       "    </tr>\n",
       "    <tr>\n",
       "      <th>5</th>\n",
       "      <td>0.001690</td>\n",
       "      <td>0.011083</td>\n",
       "      <td>0.003019</td>\n",
       "      <td>5.866115e-03</td>\n",
       "    </tr>\n",
       "    <tr>\n",
       "      <th>6</th>\n",
       "      <td>0.001431</td>\n",
       "      <td>0.007363</td>\n",
       "      <td>0.000665</td>\n",
       "      <td>3.166724e-03</td>\n",
       "    </tr>\n",
       "    <tr>\n",
       "      <th>7</th>\n",
       "      <td>0.001506</td>\n",
       "      <td>0.004828</td>\n",
       "      <td>0.000510</td>\n",
       "      <td>1.662404e-03</td>\n",
       "    </tr>\n",
       "    <tr>\n",
       "      <th>8</th>\n",
       "      <td>0.001103</td>\n",
       "      <td>0.003034</td>\n",
       "      <td>0.000671</td>\n",
       "      <td>9.572024e-04</td>\n",
       "    </tr>\n",
       "    <tr>\n",
       "      <th>9</th>\n",
       "      <td>0.001040</td>\n",
       "      <td>0.001885</td>\n",
       "      <td>0.000543</td>\n",
       "      <td>4.993837e-04</td>\n",
       "    </tr>\n",
       "    <tr>\n",
       "      <th>10</th>\n",
       "      <td>0.000838</td>\n",
       "      <td>0.001127</td>\n",
       "      <td>0.000539</td>\n",
       "      <td>2.814299e-04</td>\n",
       "    </tr>\n",
       "    <tr>\n",
       "      <th>11</th>\n",
       "      <td>0.000532</td>\n",
       "      <td>0.000646</td>\n",
       "      <td>0.000302</td>\n",
       "      <td>1.380262e-04</td>\n",
       "    </tr>\n",
       "    <tr>\n",
       "      <th>12</th>\n",
       "      <td>0.000426</td>\n",
       "      <td>0.000374</td>\n",
       "      <td>0.000643</td>\n",
       "      <td>7.829378e-05</td>\n",
       "    </tr>\n",
       "    <tr>\n",
       "      <th>13</th>\n",
       "      <td>0.000371</td>\n",
       "      <td>0.000212</td>\n",
       "      <td>0.000277</td>\n",
       "      <td>4.113490e-05</td>\n",
       "    </tr>\n",
       "    <tr>\n",
       "      <th>14</th>\n",
       "      <td>0.000511</td>\n",
       "      <td>0.000119</td>\n",
       "      <td>0.000193</td>\n",
       "      <td>1.923993e-05</td>\n",
       "    </tr>\n",
       "    <tr>\n",
       "      <th>15</th>\n",
       "      <td>0.000287</td>\n",
       "      <td>0.000063</td>\n",
       "      <td>0.000085</td>\n",
       "      <td>9.951536e-06</td>\n",
       "    </tr>\n",
       "    <tr>\n",
       "      <th>16</th>\n",
       "      <td>0.000335</td>\n",
       "      <td>0.000035</td>\n",
       "      <td>0.000188</td>\n",
       "      <td>5.473303e-06</td>\n",
       "    </tr>\n",
       "    <tr>\n",
       "      <th>17</th>\n",
       "      <td>0.000420</td>\n",
       "      <td>0.000019</td>\n",
       "      <td>0.000302</td>\n",
       "      <td>2.736641e-06</td>\n",
       "    </tr>\n",
       "    <tr>\n",
       "      <th>18</th>\n",
       "      <td>0.000251</td>\n",
       "      <td>0.000011</td>\n",
       "      <td>0.000120</td>\n",
       "      <td>1.451246e-06</td>\n",
       "    </tr>\n",
       "    <tr>\n",
       "      <th>19</th>\n",
       "      <td>0.000224</td>\n",
       "      <td>0.000005</td>\n",
       "      <td>0.000000</td>\n",
       "      <td>7.256225e-07</td>\n",
       "    </tr>\n",
       "  </tbody>\n",
       "</table>\n",
       "</div>"
      ],
      "text/plain": [
       "             c_map    c_ndcg     g_map        g_ndcg\n",
       "position                                            \n",
       "0         0.050139  0.049211  0.065217  6.521739e-02\n",
       "1         0.013734  0.039309  0.010870  3.260870e-02\n",
       "2         0.007015  0.030631  0.003623  1.863354e-02\n",
       "3         0.003962  0.022665  0.004076  1.304348e-02\n",
       "4         0.002848  0.016192  0.003043  7.713885e-03\n",
       "5         0.001690  0.011083  0.003019  5.866115e-03\n",
       "6         0.001431  0.007363  0.000665  3.166724e-03\n",
       "7         0.001506  0.004828  0.000510  1.662404e-03\n",
       "8         0.001103  0.003034  0.000671  9.572024e-04\n",
       "9         0.001040  0.001885  0.000543  4.993837e-04\n",
       "10        0.000838  0.001127  0.000539  2.814299e-04\n",
       "11        0.000532  0.000646  0.000302  1.380262e-04\n",
       "12        0.000426  0.000374  0.000643  7.829378e-05\n",
       "13        0.000371  0.000212  0.000277  4.113490e-05\n",
       "14        0.000511  0.000119  0.000193  1.923993e-05\n",
       "15        0.000287  0.000063  0.000085  9.951536e-06\n",
       "16        0.000335  0.000035  0.000188  5.473303e-06\n",
       "17        0.000420  0.000019  0.000302  2.736641e-06\n",
       "18        0.000251  0.000011  0.000120  1.451246e-06\n",
       "19        0.000224  0.000005  0.000000  7.256225e-07"
      ]
     },
     "execution_count": 7,
     "metadata": {},
     "output_type": "execute_result"
    }
   ],
   "source": [
    "metrics"
   ]
  },
  {
   "cell_type": "code",
   "execution_count": 24,
   "metadata": {},
   "outputs": [
    {
     "name": "stderr",
     "output_type": "stream",
     "text": [
      "/home/yua4/pareto/venv/lib/python3.6/site-packages/pandas/core/series.py:726: RuntimeWarning: divide by zero encountered in log\n",
      "  result = getattr(ufunc, method)(*inputs, **kwargs)\n",
      "/home/yua4/pareto/venv/lib/python3.6/site-packages/pandas/core/series.py:726: RuntimeWarning: divide by zero encountered in log\n",
      "  result = getattr(ufunc, method)(*inputs, **kwargs)\n"
     ]
    },
    {
     "data": {
      "text/plain": [
       "(-0.6744283718288002, -0.16114042309066468)"
      ]
     },
     "execution_count": 24,
     "metadata": {},
     "output_type": "execute_result"
    }
   ],
   "source": [
    "# 5\n",
    "pi = pd.DataFrame()\n",
    "pi['n'] = qi.groupby('itemId').size()\n",
    "pi[['clicked', 'purchased', 'price']] = qi.groupby('itemId')[['clicked', 'purchased', 'price']].mean()\n",
    "\n",
    "pi.loc[pi['clicked'] > 0, 'l_ctr'] = -np.log(pi['clicked'] / pi['n'])\n",
    "pi.loc[pi['clicked'] == 0, 'l_ctr'] = 0\n",
    "l_ctr = (1 / len(pi)) * pi['l_ctr'].sum()\n",
    "\n",
    "pi.loc[pi['purchased'] > 0, 'l_gmv'] = -pi['price'] * np.log(pi['purchased'] / pi['n'])\n",
    "# pi.loc[pi['purchased'] > 0, 'l_gmv'] = pi['price'] * np.log(pi['purchased'] / pi['n']) + np.log(pi['purchased'] / pi['clicked'])\n",
    "pi.loc[pi['purchased'] == 0, 'l_gmv'] = 0\n",
    "l_gmv = (1 / len(pi)) * pi['l_gmv'].sum()\n",
    "\n",
    "pi = pi.reset_index()\n",
    "l_ctr, l_gmv"
   ]
  },
  {
   "cell_type": "code",
   "execution_count": 43,
   "metadata": {},
   "outputs": [
    {
     "data": {
      "image/png": "[encoded data removed]",
      "text/plain": [
       "<Figure size 432x288 with 1 Axes>"
      ]
     },
     "metadata": {
      "needs_background": "light"
     },
     "output_type": "display_data"
    },
    {
     "data": {
      "image/png": "[encoded data removed]",
      "text/plain": [
       "<Figure size 432x288 with 1 Axes>"
      ]
     },
     "metadata": {
      "needs_background": "light"
     },
     "output_type": "display_data"
    }
   ],
   "source": [
    "import matplotlib.pyplot as plt\n",
    "plt.hist(pi[pi['l_ctr'].notna()]['l_ctr'], bins=15)\n",
    "plt.show()\n",
    "plt.hist(pi[pi['l_gmv'].notna()]['l_gmv'], bins=15)\n",
    "plt.show()"
   ]
  },
  {
   "cell_type": "code",
   "execution_count": 40,
   "metadata": {},
   "outputs": [
    {
     "data": {
      "text/plain": [
       "itemId       39388.000000\n",
       "n              320.000000\n",
       "clicked          0.037500\n",
       "purchased        0.003125\n",
       "price            9.000000\n",
       "l_ctr           -9.051735\n",
       "l_gmv         -103.829778\n",
       "Name: 9875, dtype: float64"
      ]
     },
     "execution_count": 40,
     "metadata": {},
     "output_type": "execute_result"
    }
   ],
   "source": [
    "pi.iloc[pi['l_gmv'].idxmin()]"
   ]
  },
  {
   "cell_type": "code",
   "execution_count": 41,
   "metadata": {},
   "outputs": [
    {
     "data": {
      "text/html": [
       "<div>\n",
       "<style scoped>\n",
       "    .dataframe tbody tr th:only-of-type {\n",
       "        vertical-align: middle;\n",
       "    }\n",
       "\n",
       "    .dataframe tbody tr th {\n",
       "        vertical-align: top;\n",
       "    }\n",
       "\n",
       "    .dataframe thead th {\n",
       "        text-align: right;\n",
       "    }\n",
       "</style>\n",
       "<table border=\"1\" class=\"dataframe\">\n",
       "  <thead>\n",
       "    <tr style=\"text-align: right;\">\n",
       "      <th></th>\n",
       "      <th>itemId</th>\n",
       "      <th>n</th>\n",
       "      <th>clicked</th>\n",
       "      <th>purchased</th>\n",
       "      <th>price</th>\n",
       "      <th>l_ctr</th>\n",
       "      <th>l_gmv</th>\n",
       "    </tr>\n",
       "  </thead>\n",
       "  <tbody>\n",
       "    <tr>\n",
       "      <th>count</th>\n",
       "      <td>23504.000000</td>\n",
       "      <td>23504.000000</td>\n",
       "      <td>23504.000000</td>\n",
       "      <td>23504.000000</td>\n",
       "      <td>23504.000000</td>\n",
       "      <td>23504.000000</td>\n",
       "      <td>23504.000000</td>\n",
       "    </tr>\n",
       "    <tr>\n",
       "      <th>mean</th>\n",
       "      <td>91027.714900</td>\n",
       "      <td>8.141167</td>\n",
       "      <td>0.031482</td>\n",
       "      <td>0.000441</td>\n",
       "      <td>6.713283</td>\n",
       "      <td>-0.674428</td>\n",
       "      <td>-0.161140</td>\n",
       "    </tr>\n",
       "    <tr>\n",
       "      <th>std</th>\n",
       "      <td>98724.243538</td>\n",
       "      <td>21.789970</td>\n",
       "      <td>0.125927</td>\n",
       "      <td>0.014692</td>\n",
       "      <td>2.941984</td>\n",
       "      <td>1.861861</td>\n",
       "      <td>3.161471</td>\n",
       "    </tr>\n",
       "    <tr>\n",
       "      <th>min</th>\n",
       "      <td>2.000000</td>\n",
       "      <td>1.000000</td>\n",
       "      <td>0.000000</td>\n",
       "      <td>0.000000</td>\n",
       "      <td>0.000000</td>\n",
       "      <td>-11.358585</td>\n",
       "      <td>-103.829778</td>\n",
       "    </tr>\n",
       "    <tr>\n",
       "      <th>25%</th>\n",
       "      <td>21330.750000</td>\n",
       "      <td>1.000000</td>\n",
       "      <td>0.000000</td>\n",
       "      <td>0.000000</td>\n",
       "      <td>6.000000</td>\n",
       "      <td>0.000000</td>\n",
       "      <td>0.000000</td>\n",
       "    </tr>\n",
       "    <tr>\n",
       "      <th>50%</th>\n",
       "      <td>57234.000000</td>\n",
       "      <td>2.000000</td>\n",
       "      <td>0.000000</td>\n",
       "      <td>0.000000</td>\n",
       "      <td>8.000000</td>\n",
       "      <td>0.000000</td>\n",
       "      <td>0.000000</td>\n",
       "    </tr>\n",
       "    <tr>\n",
       "      <th>75%</th>\n",
       "      <td>131425.250000</td>\n",
       "      <td>7.000000</td>\n",
       "      <td>0.000000</td>\n",
       "      <td>0.000000</td>\n",
       "      <td>8.000000</td>\n",
       "      <td>0.000000</td>\n",
       "      <td>0.000000</td>\n",
       "    </tr>\n",
       "    <tr>\n",
       "      <th>max</th>\n",
       "      <td>581918.000000</td>\n",
       "      <td>615.000000</td>\n",
       "      <td>1.000000</td>\n",
       "      <td>1.000000</td>\n",
       "      <td>13.000000</td>\n",
       "      <td>0.000000</td>\n",
       "      <td>0.000000</td>\n",
       "    </tr>\n",
       "  </tbody>\n",
       "</table>\n",
       "</div>"
      ],
      "text/plain": [
       "              itemId             n       clicked     purchased         price  \\\n",
       "count   23504.000000  23504.000000  23504.000000  23504.000000  23504.000000   \n",
       "mean    91027.714900      8.141167      0.031482      0.000441      6.713283   \n",
       "std     98724.243538     21.789970      0.125927      0.014692      2.941984   \n",
       "min         2.000000      1.000000      0.000000      0.000000      0.000000   \n",
       "25%     21330.750000      1.000000      0.000000      0.000000      6.000000   \n",
       "50%     57234.000000      2.000000      0.000000      0.000000      8.000000   \n",
       "75%    131425.250000      7.000000      0.000000      0.000000      8.000000   \n",
       "max    581918.000000    615.000000      1.000000      1.000000     13.000000   \n",
       "\n",
       "              l_ctr         l_gmv  \n",
       "count  23504.000000  23504.000000  \n",
       "mean      -0.674428     -0.161140  \n",
       "std        1.861861      3.161471  \n",
       "min      -11.358585   -103.829778  \n",
       "25%        0.000000      0.000000  \n",
       "50%        0.000000      0.000000  \n",
       "75%        0.000000      0.000000  \n",
       "max        0.000000      0.000000  "
      ]
     },
     "execution_count": 41,
     "metadata": {},
     "output_type": "execute_result"
    }
   ],
   "source": [
    "pi.describe()"
   ]
  }
 ],
 "metadata": {
  "interpreter": {
   "hash": "6ba88e90e3035086e443ce3317af0e42b4bfdac31d15cc6b97aad0f5a269bb5d"
  },
  "kernelspec": {
   "display_name": "Python 3.9.9 ('venv': venv)",
   "language": "python",
   "name": "python3"
  },
  "language_info": {
   "codemirror_mode": {
    "name": "ipython",
    "version": 3
   },
   "file_extension": ".py",
   "mimetype": "text/x-python",
   "name": "python",
   "nbconvert_exporter": "python",
   "pygments_lexer": "ipython3",
   "version": "3.9.9"
  },
  "orig_nbformat": 4
 },
 "nbformat": 4,
 "nbformat_minor": 2
}
