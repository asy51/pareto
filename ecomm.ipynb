{
 "cells": [
  {
   "cell_type": "code",
   "execution_count": 1,
   "metadata": {
    "ExecuteTime": {
     "end_time": "2022-03-22T16:57:07.223714Z",
     "start_time": "2022-03-22T16:57:04.058435Z"
    }
   },
   "outputs": [],
   "source": [
    "import pandas as pd\n",
    "import torch\n",
    "from torch import nn\n",
    "import numpy as np\n",
    "import os\n",
    "import matplotlib.pyplot as plt\n",
    "import sklearn\n",
    "from sklearn import *\n",
    "import scipy\n",
    "import time"
   ]
  },
  {
   "cell_type": "markdown",
   "metadata": {},
   "source": [
    "#  Data Processing"
   ]
  },
  {
   "cell_type": "code",
   "execution_count": 2,
   "metadata": {},
   "outputs": [],
   "source": [
    "q = pd.read_csv('./data/diginetica/dataset-train-diginetica/train-queries.csv', sep=';', dtype={'searchstring.tokens': 'O'})\n",
    "# q['searchstring.tokens'] = q['searchstring.tokens'].astype('O')\n",
    "v = pd.read_csv('./data/diginetica/dataset-train-diginetica/train-item-views.csv', sep=';')\n",
    "c = pd.read_csv('./data/diginetica/dataset-train-diginetica/train-clicks.csv', sep=';')\n",
    "p = pd.read_csv('./data/diginetica/dataset-train-diginetica/train-purchases.csv', sep=';')\n",
    "products = pd.read_csv('./data/diginetica/dataset-train-diginetica/products.csv', sep=';')\n",
    "product_cat = pd.read_csv('./data/diginetica/dataset-train-diginetica/product-categories.csv', sep=';')"
   ]
  },
  {
   "cell_type": "code",
   "execution_count": 3,
   "metadata": {},
   "outputs": [
    {
     "name": "stdout",
     "output_type": "stream",
     "text": [
      "q:           ['queryId', 'sessionId', 'userId', 'timeframe', 'duration', 'eventdate', 'searchstring.tokens', 'categoryId', 'items', 'is.test']\n",
      "v:           ['sessionId', 'userId', 'itemId', 'timeframe', 'eventdate']\n",
      "c:           ['queryId', 'timeframe', 'itemId']\n",
      "p:           ['sessionId', 'userId', 'timeframe', 'eventdate', 'ordernumber', 'itemId']\n",
      "products:    ['itemId', 'pricelog2', 'product.name.tokens']\n",
      "product_cat: ['itemId', 'categoryId']\n"
     ]
    }
   ],
   "source": [
    "print(f'q:           {list(q.columns)}')\n",
    "print(f'v:           {list(v.columns)}')\n",
    "print(f'c:           {list(c.columns)}')\n",
    "print(f'p:           {list(p.columns)}')\n",
    "print(f'products:    {list(products.columns)}')\n",
    "print(f'product_cat: {list(product_cat.columns)}')\n"
   ]
  },
  {
   "cell_type": "code",
   "execution_count": 4,
   "metadata": {},
   "outputs": [],
   "source": [
    "qq = q.iloc[:10_000].copy()"
   ]
  },
  {
   "cell_type": "code",
   "execution_count": 5,
   "metadata": {},
   "outputs": [],
   "source": [
    "qi = qq.copy()\n",
    "qi['items'] = qi['items'].str.split(',')\n",
    "qi = qi.explode('items')\n",
    "qi['pos'] = 1\n",
    "qi['pos'] = qi.groupby('queryId')['pos'].cumsum()\n",
    "qi = qi.rename(columns={'items': 'itemId'})\n",
    "qi['itemId'] = qi['itemId'].astype(int)\n",
    "qi = qi.rename(columns={'duration': 'duration_query', 'categoryId': 'categoryId_query'})\n",
    "# clicks\n",
    "qi = pd.merge(qi.rename(columns={'timeframe': 'timeframe_query', 'eventdate': 'eventdate_query'}), c.rename(columns={'timeframe': 'timeframe_click'}), how='left', on=['queryId', 'itemId'])\n",
    "qi['clicked'] = qi['timeframe_click'].notna() * 1\n",
    "# views (doesn't merge well)\n",
    "# qi = pd.merge(qi, v.rename(columns={'timeframe': 'timeframe_view', 'eventdate': 'eventdate_view'}), how='left', on=['sessionId', 'userId', 'itemId'])\n",
    "# purchases\n",
    "qi = pd.merge(qi, p.rename(columns={'timeframe': 'timeframe_purchase', 'eventdate': 'eventdate_purchase'}), how='left', on=['userId', 'sessionId', 'itemId'])\n",
    "qi['purchased'] = qi['timeframe_purchase'].notna()\n",
    "# product prices\n",
    "qi = pd.merge(qi, products, how='left', on=['itemId'])\n",
    "# product cat\n",
    "qi = pd.merge(qi, product_cat.rename(columns={'categoryId': 'categoryId_product'}), how='left', on=['itemId'])\n",
    "# query totals\n",
    "totals = qi.groupby('queryId')[['clicked', 'purchased']].sum().reset_index().rename(columns={'clicked':'clicks_query', 'purchased':'purchases_query', })\n",
    "qi = pd.merge(qi, totals, on=['queryId'])\n",
    "qi.loc[qi['searchstring.tokens'].isna(), 'searchstring.tokens'] = ''\n",
    "qi['searchstring.tokens'] = qi['searchstring.tokens'].str.split(',')\n",
    "qi['product.name.tokens'] = qi['product.name.tokens'].str.split(',')\n",
    "# qi = qi.drop(columns=['queryId', 'sessionId', 'userId', 'timeframe_query', 'timeframe_click', 'timeframe_purchase', 'eventdate_purchase', 'ordernumber', 'clicks_query', 'purchases_query', 'is.test', 'pos', 'purchased', 'eventdate_query'])\n",
    "qi = qi.drop(columns=['queryId', 'sessionId', 'userId', 'timeframe_query', 'timeframe_click', 'timeframe_purchase', 'eventdate_purchase', 'ordernumber', 'clicks_query', 'purchases_query', 'is.test', 'pos', 'eventdate_query'])\n",
    "qi = qi.drop(columns=['product.name.tokens', 'searchstring.tokens'])\n",
    "# qi = qi.drop(columns=['categoryId_query', 'categoryId_product'])"
   ]
  },
  {
   "cell_type": "code",
   "execution_count": 6,
   "metadata": {},
   "outputs": [],
   "source": [
    "pi = pd.DataFrame()\n",
    "pi['n'] = qi.groupby('itemId').size()\n",
    "pi['clicked'] = qi.groupby('itemId')['clicked'].sum()\n",
    "pi['price'] = qi.groupby('itemId')['pricelog2'].mean()\n",
    "pi['p_click'] = pi['clicked'] / pi['n']\n",
    "pi = pi.reset_index()\n",
    "# pi.loc[pi['clicked'] > 0, 'l_ctr'] = np.log(pi['clicked'] / pi['n'])\n",
    "# pi.loc[pi['clicked'] == 0, 'l_ctr'] = 0\n",
    "\n",
    "# pi.loc[pi['purchased'] > 0, 'l_gmv'] = pi['price'] * np.log(pi['purchased'] / pi['n'])\n",
    "# pi.loc[pi['purchased'] > 0, 'l_gmv'] = pi['price'] * np.log(pi['purchased'] / pi['n']) + np.log(pi['purchased'] / pi['clicked'])\n",
    "# pi.loc[pi['purchased'] == 0, 'l_gmv'] = 0\n",
    "qi = pd.merge(qi, pi[['itemId', 'p_click']], on=['itemId'], how='left')"
   ]
  },
  {
   "cell_type": "code",
   "execution_count": 7,
   "metadata": {},
   "outputs": [],
   "source": [
    "# one hot for single cats\n",
    "qi = qi.merge(pd.get_dummies(qi['itemId'], prefix='itemId'), left_index=True, right_index=True)\n",
    "qi = qi.merge(pd.get_dummies(qi['categoryId_query'], prefix='categoryId_query'), left_index=True, right_index=True)\n",
    "qi = qi.merge(pd.get_dummies(qi['categoryId_product'], prefix='categoryId_product'), left_index=True, right_index=True)\n",
    "qi = qi.drop(columns=['categoryId_query', 'categoryId_product', 'itemId'])\n",
    "# one hot for cat lists\n",
    "# pd.get_dummies(pd.DataFrame(qi['searchstring.tokens'].values.tolist()), prefix_sep='', prefix='')\n",
    "# pd.get_dummies(pd.DataFrame(qi['product.name.tokens'].values.tolist()), prefix_sep='', prefix='')\n",
    "top5itemId = qi.filter(like='itemId').sum().sort_values(ascending=False).iloc[:5].index.tolist()\n",
    "top5categoryId_query = qi.filter(like='categoryId_query').sum().sort_values(ascending=False).iloc[:5].index.tolist()\n",
    "top5categoryId_product = qi.filter(like='categoryId_product').sum().sort_values(ascending=False).iloc[:5].index.tolist()\n",
    "qi = qi[['duration_query', 'clicked', 'pricelog2', 'p_click'] + top5itemId + top5categoryId_query + top5categoryId_product]\n",
    "#fix inputs (top n categories)"
   ]
  },
  {
   "cell_type": "code",
   "execution_count": 8,
   "metadata": {},
   "outputs": [],
   "source": [
    "x = qi.drop(columns=['clicked', 'p_click'])\n",
    "y = qi['clicked'] * 1"
   ]
  },
  {
   "cell_type": "code",
   "execution_count": 9,
   "metadata": {
    "ExecuteTime": {
     "end_time": "2022-03-22T16:57:09.131700Z",
     "start_time": "2022-03-22T16:57:09.121726Z"
    },
    "scrolled": true
   },
   "outputs": [],
   "source": [
    "x_train, x_test_orig, y_train, y_test = sklearn.model_selection.train_test_split(x,y,shuffle=True,train_size=0.70)\n",
    "y_train = y_train.to_frame('y')\n",
    "y_test = y_test.to_frame('y')"
   ]
  },
  {
   "cell_type": "code",
   "execution_count": 10,
   "metadata": {
    "ExecuteTime": {
     "end_time": "2022-03-22T16:57:09.155744Z",
     "start_time": "2022-03-22T16:57:09.133694Z"
    },
    "scrolled": true
   },
   "outputs": [],
   "source": [
    "x_scaler = sklearn.preprocessing.StandardScaler()\n",
    "# y_scaler = sklearn.preprocessing.StandardScaler()\n",
    "\n",
    "x_train = pd.DataFrame(x_scaler.fit_transform(x_train),index = x_train.index, columns = x_train.columns)\n",
    "x_test =  pd.DataFrame(x_scaler.transform(x_test_orig),index = x_test_orig.index, columns = x_test_orig.columns)\n",
    "# y_train = pd.DataFrame(y_scaler.fit_transform(y_train),index = y_train.index, columns = y_train.columns)\n",
    "# y_test =  pd.DataFrame(y_scaler.transform(y_test),index = y_test.index, columns = y_test.columns)"
   ]
  },
  {
   "cell_type": "code",
   "execution_count": 11,
   "metadata": {
    "ExecuteTime": {
     "end_time": "2022-03-22T16:57:09.193656Z",
     "start_time": "2022-03-22T16:57:09.159625Z"
    }
   },
   "outputs": [],
   "source": [
    "x_train = torch.tensor(x_train.values).float()\n",
    "x_test = torch.tensor(x_test.values).float()\n",
    "y_train = torch.tensor(y_train.values).float()\n",
    "y_test = torch.tensor(y_test.values).float()"
   ]
  },
  {
   "cell_type": "markdown",
   "metadata": {},
   "source": [
    "# NN setup"
   ]
  },
  {
   "cell_type": "code",
   "execution_count": 12,
   "metadata": {
    "ExecuteTime": {
     "end_time": "2022-03-23T00:57:35.264206Z",
     "start_time": "2022-03-23T00:57:35.259217Z"
    }
   },
   "outputs": [],
   "source": [
    "class CustomDataset(torch.utils.data.Dataset):\n",
    "    def __init__(self, x,y):\n",
    "        self.x = x\n",
    "        self.y = y\n",
    "    def __len__(self):\n",
    "        return len(self.x)\n",
    "    def __getitem__(self, idx):\n",
    "        return {\n",
    "            'x': self.x[idx,:],\n",
    "            'y': self.y[idx,:],\n",
    "        }"
   ]
  },
  {
   "cell_type": "code",
   "execution_count": 13,
   "metadata": {
    "ExecuteTime": {
     "end_time": "2022-03-23T00:57:35.391399Z",
     "start_time": "2022-03-23T00:57:35.385411Z"
    }
   },
   "outputs": [],
   "source": [
    "class SimpleNN(torch.nn.Module):\n",
    "    def __init__(self,insize,linlayers):\n",
    "        super(type(self),self).__init__()\n",
    "        self.linlayers_size = linlayers\n",
    "        self.layers=[]\n",
    "        \n",
    "        prev = insize\n",
    "        for curlayersize in self.linlayers_size:\n",
    "            self.layers.append(torch.nn.Linear(prev,curlayersize))\n",
    "            self.layers.append(torch.nn.ReLU())\n",
    "            prev = curlayersize\n",
    "        self.layers.append(torch.nn.Linear(self.linlayers_size[-1],1,bias=True))\n",
    "        # self.layers.append(torch.nn.Sigmoid())\n",
    "        self.layers = torch.nn.Sequential(*self.layers)\n",
    "        \n",
    "    def forward(self,x):\n",
    "        x = self.layers(x)\n",
    "        return x"
   ]
  },
  {
   "cell_type": "code",
   "execution_count": 14,
   "metadata": {
    "ExecuteTime": {
     "end_time": "2022-03-23T00:57:35.536371Z",
     "start_time": "2022-03-23T00:57:35.522409Z"
    },
    "scrolled": false
   },
   "outputs": [
    {
     "name": "stdout",
     "output_type": "stream",
     "text": [
      "  8: 256  , 523.2 iter\n",
      "  9: 512  , 261.6 iter\n",
      " 10: 1024 , 130.8 iter\n",
      " 11: 2048 , 65.4 iter\n",
      " 12: 4096 , 32.7 iter\n",
      " 13: 8192 , 16.4 iter\n",
      " 14: 16384, 8.2 iter\n",
      " 15: 32768, 4.1 iter\n"
     ]
    }
   ],
   "source": [
    "for i in range(8,16,1):\n",
    "    print(f\"{i:>3}: {2**i:<5}, {x_train.shape[0]/(2**i):.1f} iter\")"
   ]
  },
  {
   "cell_type": "markdown",
   "metadata": {
    "ExecuteTime": {
     "end_time": "2022-03-21T18:06:46.193027Z",
     "start_time": "2022-03-21T18:06:46.189010Z"
    }
   },
   "source": [
    "# Train Params"
   ]
  },
  {
   "cell_type": "code",
   "execution_count": 15,
   "metadata": {
    "ExecuteTime": {
     "end_time": "2022-03-23T01:02:19.999833Z",
     "start_time": "2022-03-23T01:02:19.993847Z"
    }
   },
   "outputs": [],
   "source": [
    "# LOSS\n",
    "\n",
    "def L2Loss(model):\n",
    "    return sum(p.pow(2.0).sum() for p in model.parameters())\n",
    "\n",
    "def ctr_loss(x, p_click, p_click_hat):\n",
    "    # binary cross entropy\n",
    "    m = nn.Sigmoid()\n",
    "    loss = nn.BCELoss()\n",
    "    input = p_click_hat\n",
    "    target = p_click\n",
    "    output = loss(m(input), target)\n",
    "    return output\n",
    "\n",
    "def gmv_loss(x, p_click, p_click_hat):\n",
    "    # binary cross entropy\n",
    "    m = nn.Sigmoid()\n",
    "    loss = nn.BCELoss()\n",
    "    input = p_click_hat\n",
    "    target = p_click\n",
    "    output = loss(m(input * x[:,1].unsqueeze(1)), target)\n",
    "    return output\n",
    "\n",
    "# losses\n",
    "Lfx = {\n",
    "    0:ctr_loss,\n",
    "    1:gmv_loss,\n",
    "}\n",
    "L={\n",
    "    0:None,\n",
    "    1:None,\n",
    "}\n",
    "# loss weights\n",
    "w = {\n",
    "    0:1,\n",
    "    1:1,\n",
    "}\n",
    "# boundary conditions (minimum weights)\n",
    "c = {\n",
    "    0:0.2,\n",
    "    1:0.2,\n",
    "}\n",
    "grad = {\n",
    "    0:[],\n",
    "    1:[],\n",
    "}"
   ]
  },
  {
   "cell_type": "code",
   "execution_count": 16,
   "metadata": {
    "ExecuteTime": {
     "end_time": "2022-03-23T01:02:20.175380Z",
     "start_time": "2022-03-23T01:02:20.123516Z"
    }
   },
   "outputs": [],
   "source": [
    "def pareto(w_in,c_in,G_in):\n",
    "    G = G_in.numpy()\n",
    "    K,M = G.shape\n",
    "    c = np.expand_dims(np.array([c_in[i] for i in range(K)]),1)\n",
    "    w = np.expand_dims(np.array([w_in[i] for i in range(K)]),1)\n",
    "    #print(f\"K: {K}\")\n",
    "    #print(f\"M: {M}\")\n",
    "    #print(f\"c: {c.shape}\")\n",
    "    #print(f\"w: {w.shape}\")\n",
    "    \n",
    "    # building e\n",
    "    e = np.ones(w.shape)\n",
    "    #print(f\"e: {e.shape}\")\n",
    "    \n",
    "    # building M\n",
    "    GGT = np.matmul(G,G.T)\n",
    "    #print(f\"GGT: {GGT.shape}\")\n",
    "    \n",
    "    m_top = np.hstack((GGT, e))\n",
    "    m_bot = np.hstack((e.T, np.zeros((1,1))))\n",
    "    M = np.vstack((m_top,m_bot))\n",
    "    #print(f\"GGT: {GGT.shape}\")\n",
    "    \n",
    "    # building z\n",
    "    z = np.vstack((-np.matmul(GGT,c),1-np.sum(c)))\n",
    "    #print(f\"z: {z.shape}\")\n",
    "    \n",
    "    # building w_hat\n",
    "    w_hat = np.linalg.inv(np.matmul(M.T,M)) #(MT * M)**-1\n",
    "    w_hat = np.matmul(w_hat,M)\n",
    "    w_hat = np.matmul(w_hat,z)\n",
    "    w_hat = w_hat[1:]\n",
    "    \n",
    "    # at this point, w_hat could be negative, so we have to make them non-negative\n",
    "    \n",
    "    return w_hat\n",
    "#w_hat = pareto(w,c,G)\n",
    "#display(w_hat)"
   ]
  },
  {
   "cell_type": "code",
   "execution_count": 17,
   "metadata": {
    "ExecuteTime": {
     "end_time": "2022-03-23T01:02:20.278341Z",
     "start_time": "2022-03-23T01:02:20.268364Z"
    },
    "scrolled": true
   },
   "outputs": [],
   "source": [
    "# from github page\n",
    "def ASM(hat_w, c_in):\n",
    "    \"\"\"\n",
    "    ref:\n",
    "    http://ofey.me/papers/Pareto.pdf,\n",
    "    https://stackoverflow.com/questions/33385898/how-to-include-constraint-to-scipy-nnls-function-solution-so-that-it-sums-to-1\n",
    "    :param hat_w: # (K,)\n",
    "    :param c: # (K,)\n",
    "    :return:\n",
    "    \"\"\"\n",
    "    \n",
    "    #reformat c\n",
    "    c = np.expand_dims(np.array([c_in[i] for i in range(2)]),1)\n",
    "    \n",
    "    A = np.array([[0 if i != j else 1 for i in range(len(c))] for j in range(len(c))])\n",
    "    b = hat_w.squeeze()\n",
    "    x0, _ = scipy.optimize.nnls(A, b)\n",
    "\n",
    "    def _fn(x, A, b):\n",
    "        return np.linalg.norm(A.dot(x) - b)\n",
    "\n",
    "    cons = {'type': 'eq', 'fun': lambda x: np.sum(x) + np.sum(c) - 1}\n",
    "    bounds = [[0., None] for _ in range(len(hat_w))]\n",
    "    min_out = scipy.optimize.minimize(_fn, x0, args=(A, b), method='SLSQP', bounds=bounds, constraints=cons)\n",
    "    new_w = min_out.x + c.squeeze()\n",
    "    return new_w\n",
    "#new_w_hat = ASM(w_hat, c)\n",
    "#new_w_hat"
   ]
  },
  {
   "cell_type": "code",
   "execution_count": 18,
   "metadata": {
    "ExecuteTime": {
     "end_time": "2022-03-23T01:05:28.435284Z",
     "start_time": "2022-03-23T01:05:28.428274Z"
    },
    "scrolled": true
   },
   "outputs": [
    {
     "data": {
      "text/plain": [
       "SimpleNN(\n",
       "  (layers): Sequential(\n",
       "    (0): Linear(in_features=13, out_features=64, bias=True)\n",
       "    (1): ReLU()\n",
       "    (2): Linear(in_features=64, out_features=1, bias=True)\n",
       "  )\n",
       ")"
      ]
     },
     "execution_count": 18,
     "metadata": {},
     "output_type": "execute_result"
    }
   ],
   "source": [
    "model = SimpleNN(x_train.shape[1],[64])\n",
    "model"
   ]
  },
  {
   "cell_type": "code",
   "execution_count": 19,
   "metadata": {
    "ExecuteTime": {
     "end_time": "2022-03-23T01:05:28.585180Z",
     "start_time": "2022-03-23T01:05:28.581217Z"
    }
   },
   "outputs": [],
   "source": [
    "param={\n",
    "    'batch_size':2**14,\n",
    "    'epochs':1000,\n",
    "    'optim':torch.optim.Adam(model.parameters(), 0.001),\n",
    "}"
   ]
  },
  {
   "cell_type": "code",
   "execution_count": 20,
   "metadata": {
    "ExecuteTime": {
     "end_time": "2022-03-23T01:05:28.744321Z",
     "start_time": "2022-03-23T01:05:28.740330Z"
    }
   },
   "outputs": [],
   "source": [
    "dataset = CustomDataset(x_train,y_train)\n",
    "dataloader = torch.utils.data.DataLoader(dataset, batch_size=param['batch_size'], shuffle=True)"
   ]
  },
  {
   "cell_type": "code",
   "execution_count": 21,
   "metadata": {
    "ExecuteTime": {
     "end_time": "2022-03-23T01:07:06.779410Z",
     "start_time": "2022-03-23T01:05:28.901085Z"
    },
    "scrolled": true
   },
   "outputs": [
    {
     "name": "stdout",
     "output_type": "stream",
     "text": [
      "e: 999; b: 8\r"
     ]
    }
   ],
   "source": [
    "training={\n",
    "    'train':{0:[],1:[]},\n",
    "    'valid':{0:[],1:[]},\n",
    "    'time':[],\n",
    "    'w':{\n",
    "        0:[],\n",
    "        1:[],\n",
    "    }\n",
    "}\n",
    "\n",
    "def NoneGrad(model):\n",
    "    for i in model.parameters():\n",
    "        i.grad=None\n",
    "        \n",
    "\n",
    "for e in range(param['epochs']):\n",
    "    curtime = time.time()\n",
    "    \n",
    "    batchloss={0:[],1:[]}\n",
    "    for b,batch in enumerate(dataloader):\n",
    "        print(f\"e: {e}; b: {b}\",end='\\r',flush=True)\n",
    "        \n",
    "        # -----train-----\n",
    "        model.train()\n",
    "        \n",
    "        # zero out grad\n",
    "        param['optim'].zero_grad()\n",
    "        # predict\n",
    "        y_hat = model.forward(batch['x'])\n",
    "        # loss\n",
    "        L[0] = Lfx[0](batch['x'], batch['y'], y_hat)\n",
    "        L[1] = Lfx[1](batch['x'], batch['y'], y_hat)\n",
    "        # store loss individually for tracking purposes\n",
    "        for i in Lfx:\n",
    "            batchloss[i].append(L[i].detach())\n",
    "        # gradients w.r.t. each loss\n",
    "        for i in Lfx:\n",
    "            L[i].backward(retain_graph=True)\n",
    "            grad[i]=[j.grad for j in model.parameters()]\n",
    "            NoneGrad(model)\n",
    "        # flatten and stack grads, such that G = KxM where K = # of losses, M = total # of params\n",
    "        G = torch.stack([torch.cat([i.flatten() for i in grad[j]]) for j in Lfx])\n",
    "                \n",
    "        # INSERT PARETO STEP HERE TO FIND w\n",
    "        # pareto step\n",
    "        w_hat = pareto(w,c,G)\n",
    "        # constraints - non-neg, sum to 1\n",
    "        new_w_hat = ASM(w_hat, c)\n",
    "        # update w_hat\n",
    "        for i in w:\n",
    "            # multi = 1\n",
    "            # if i==1: # manual weighting for L2 loss since scale is so different\n",
    "            #     multi = 0.1\n",
    "            # w[i] = new_w_hat[i] * multi\n",
    "            w[i] = new_w_hat[i]\n",
    "            training['w'][i].append(new_w_hat[i])\n",
    "            \n",
    "        # backprop\n",
    "        (sum([L[i]*w[i] for i in Lfx])).backward()\n",
    "        \n",
    "        # update\n",
    "        param['optim'].step()\n",
    "    for i in Lfx:\n",
    "        training['train'][i].append(np.mean(batchloss[i]))\n",
    "    \n",
    "    # -----valid-----\n",
    "    model.eval()\n",
    "    \n",
    "    y_test_hat = model.forward(x_test)\n",
    "    \n",
    "    L0_valid = Lfx[0](x_test, y_test, y_test_hat)\n",
    "    L1_valid = Lfx[1](x_test, y_test, y_test_hat)\n",
    "    \n",
    "    training['valid'][0].append(L0_valid.detach())\n",
    "    training['valid'][1].append(L1_valid.detach())\n",
    "    \n",
    "    training['time'].append(time.time()-curtime)\n",
    "    "
   ]
  },
  {
   "cell_type": "markdown",
   "metadata": {},
   "source": [
    "# Plots"
   ]
  },
  {
   "cell_type": "code",
   "execution_count": 22,
   "metadata": {
    "ExecuteTime": {
     "end_time": "2022-03-23T01:07:07.410568Z",
     "start_time": "2022-03-23T01:07:06.782401Z"
    },
    "scrolled": false
   },
   "outputs": [
    {
     "data": {
      "image/png": "[encoded data removed]",
      "text/plain": [
       "<Figure size 720x216 with 2 Axes>"
      ]
     },
     "metadata": {
      "needs_background": "light"
     },
     "output_type": "display_data"
    },
    {
     "data": {
      "image/png": "[encoded data removed]",
      "text/plain": [
       "<Figure size 720x216 with 1 Axes>"
      ]
     },
     "metadata": {
      "needs_background": "light"
     },
     "output_type": "display_data"
    }
   ],
   "source": [
    "fig,axs = plt.subplots(nrows=2, figsize=(10,3),sharex=True)\n",
    "axs[0].plot(training['train'][0],label='train CTR loss')\n",
    "axs[0].plot(training['valid'][0],label='valid CTR loss')\n",
    "axs[0].set_ylabel('CTR')\n",
    "axs[1].plot(training['train'][1],label='train GMV loss')\n",
    "axs[1].plot(training['valid'][1],label='valid GMV loss')\n",
    "axs[1].set_ylabel('GMV')\n",
    "\n",
    "axs[0].legend()\n",
    "axs[1].legend()\n",
    "axs[0].set_title(f\"epoch_time: {np.mean(training['time']):.3f}s\")\n",
    "plt.show()\n",
    "                 \n",
    "fig,axs = plt.subplots(figsize=(10,3))\n",
    "axs.plot(training['w'][0][:1000],label='CTR loss weight')\n",
    "axs.plot(training['w'][1][:1000],label='GMV loss weight')\n",
    "axs.set_ylabel('Loss weight')\n",
    "axs.legend()\n",
    "plt.show()"
   ]
  }
 ],
 "metadata": {
  "kernelspec": {
   "display_name": "Python 3",
   "language": "python",
   "name": "python3"
  },
  "language_info": {
   "codemirror_mode": {
    "name": "ipython",
    "version": 3
   },
   "file_extension": ".py",
   "mimetype": "text/x-python",
   "name": "python",
   "nbconvert_exporter": "python",
   "pygments_lexer": "ipython3",
   "version": "3.9.9"
  }
 },
 "nbformat": 4,
 "nbformat_minor": 2
}
